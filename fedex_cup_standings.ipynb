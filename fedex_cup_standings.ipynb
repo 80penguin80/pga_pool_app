{
 "cells": [
  {
   "cell_type": "code",
   "execution_count": 18,
   "metadata": {},
   "outputs": [],
   "source": [
    "import requests\n",
    "from bs4 import BeautifulSoup\n",
    "import pandas as pd\n",
    "\n",
    "results = requests.get('https://www.espn.com/golf/stats/player/_/table/general/sort/cupPoints/dir/desc', headers = {'User-Agent':'Mozilla/5.0 (Windows NT 10.0; Win64; x64) AppleWebKit/537.36 (KHTML, like Gecko) Chrome/126.0.0.0 Safari/537.36 Edg/126.0.0.0'})\n",
    "\n",
    "soup = BeautifulSoup(results.text, 'html.parser')"
   ]
  },
  {
   "cell_type": "code",
   "execution_count": 21,
   "metadata": {},
   "outputs": [
    {
     "ename": "KeyError",
     "evalue": "1",
     "output_type": "error",
     "traceback": [
      "\u001b[1;31m---------------------------------------------------------------------------\u001b[0m",
      "\u001b[1;31mKeyError\u001b[0m                                  Traceback (most recent call last)",
      "\u001b[1;32m~\\AppData\\Local\\Temp\\ipykernel_9100\\904346477.py\u001b[0m in \u001b[0;36m<module>\u001b[1;34m\u001b[0m\n\u001b[0;32m      6\u001b[0m \u001b[1;33m\u001b[0m\u001b[0m\n\u001b[0;32m      7\u001b[0m \u001b[1;32mfor\u001b[0m \u001b[0mpoints\u001b[0m \u001b[1;32min\u001b[0m \u001b[0msoup\u001b[0m\u001b[1;33m.\u001b[0m\u001b[0mfind_all\u001b[0m\u001b[1;33m(\u001b[0m\u001b[1;34m'tr'\u001b[0m\u001b[1;33m,\u001b[0m \u001b[0mclass_\u001b[0m \u001b[1;33m=\u001b[0m \u001b[1;34m'Table__TR Table__TR--sm Table__even'\u001b[0m\u001b[1;33m)\u001b[0m\u001b[1;33m:\u001b[0m\u001b[1;33m\u001b[0m\u001b[1;33m\u001b[0m\u001b[0m\n\u001b[1;32m----> 8\u001b[1;33m     \u001b[0mfedex_cup\u001b[0m\u001b[1;33m.\u001b[0m\u001b[0mappend\u001b[0m\u001b[1;33m(\u001b[0m\u001b[0mpoints\u001b[0m\u001b[1;33m[\u001b[0m\u001b[1;36m1\u001b[0m\u001b[1;33m]\u001b[0m\u001b[1;33m)\u001b[0m\u001b[1;33m\u001b[0m\u001b[1;33m\u001b[0m\u001b[0m\n\u001b[0m\u001b[0;32m      9\u001b[0m \u001b[1;33m\u001b[0m\u001b[0m\n",
      "\u001b[1;32mc:\\Users\\Zack Burnside\\anaconda3\\New folder\\lib\\site-packages\\bs4\\element.py\u001b[0m in \u001b[0;36m__getitem__\u001b[1;34m(self, key)\u001b[0m\n\u001b[0;32m   1517\u001b[0m         \"\"\"tag[key] returns the value of the 'key' attribute for the Tag,\n\u001b[0;32m   1518\u001b[0m         and throws an exception if it's not there.\"\"\"\n\u001b[1;32m-> 1519\u001b[1;33m         \u001b[1;32mreturn\u001b[0m \u001b[0mself\u001b[0m\u001b[1;33m.\u001b[0m\u001b[0mattrs\u001b[0m\u001b[1;33m[\u001b[0m\u001b[0mkey\u001b[0m\u001b[1;33m]\u001b[0m\u001b[1;33m\u001b[0m\u001b[1;33m\u001b[0m\u001b[0m\n\u001b[0m\u001b[0;32m   1520\u001b[0m \u001b[1;33m\u001b[0m\u001b[0m\n\u001b[0;32m   1521\u001b[0m     \u001b[1;32mdef\u001b[0m \u001b[0m__iter__\u001b[0m\u001b[1;33m(\u001b[0m\u001b[0mself\u001b[0m\u001b[1;33m)\u001b[0m\u001b[1;33m:\u001b[0m\u001b[1;33m\u001b[0m\u001b[1;33m\u001b[0m\u001b[0m\n",
      "\u001b[1;31mKeyError\u001b[0m: 1"
     ]
    }
   ],
   "source": [
    "player = []\n",
    "fedex_cup = []\n",
    "\n",
    "for name in soup.find_all('div', class_ = 'athleteCell__flag flex items-start mr7'):\n",
    "    player.append(name)\n",
    "\n",
    "for points in soup.find_all('tr', class_ = 'Table__TR Table__TR--sm Table__even'):\n",
    "    fedex_cup.append(points[1])\n",
    "    \n"
   ]
  },
  {
   "cell_type": "code",
   "execution_count": 26,
   "metadata": {},
   "outputs": [
    {
     "name": "stdout",
     "output_type": "stream",
     "text": [
      "<tr class=\"Table__TR Table__TR--sm Table__even\" data-idx=\"0\"><td class=\"Table__TD\">1</td><td class=\"Table__TD\"><div class=\"athleteCell__flag flex items-start mr7\"><img alt=\"United States\" class=\"Image Logo Athlete__Flag dib mr2 Logo__sm\" data-mptype=\"image\" src=\"data:image/gif;base64,R0lGODlhAQABAIAAAAAAAP///yH5BAEAAAAALAAAAAABAAEAAAIBRAA7\"/><a class=\"AnchorLink\" data-player-uid=\"s:1100~a:9478\" href=\"https://www.espn.com/golf/player/_/id/9478/scottie-scheffler\" tabindex=\"0\">Scottie Scheffler</a><span class=\"pl2 ns10 athleteCell__teamAbbrev\"></span></div></td><td class=\"age Table__TD\"><div class=\"age\">28</div></td></tr>\n",
      "<tr class=\"Table__TR Table__TR--sm Table__even\" data-idx=\"1\"><td class=\"Table__TD\">2</td><td class=\"Table__TD\"><div class=\"athleteCell__flag flex items-start mr7\"><img alt=\"United States\" class=\"Image Logo Athlete__Flag dib mr2 Logo__sm\" data-mptype=\"image\" src=\"data:image/gif;base64,R0lGODlhAQABAIAAAAAAAP///yH5BAEAAAAALAAAAAABAAEAAAIBRAA7\"/><a class=\"AnchorLink\" data-player-uid=\"s:1100~a:10140\" href=\"https://www.espn.com/golf/player/_/id/10140/xander-schauffele\" tabindex=\"0\">Xander Schauffele</a><span class=\"pl2 ns10 athleteCell__teamAbbrev\"></span></div></td><td class=\"age Table__TD\"><div class=\"age\">30</div></td></tr>\n",
      "<tr class=\"Table__TR Table__TR--sm Table__even\" data-idx=\"2\"><td class=\"Table__TD\">3</td><td class=\"Table__TD\"><div class=\"athleteCell__flag flex items-start mr7\"><img alt=\"Northern Ireland\" class=\"Image Logo Athlete__Flag dib mr2 Logo__sm\" data-mptype=\"image\" src=\"data:image/gif;base64,R0lGODlhAQABAIAAAAAAAP///yH5BAEAAAAALAAAAAABAAEAAAIBRAA7\"/><a class=\"AnchorLink\" data-player-uid=\"s:1100~a:3470\" href=\"https://www.espn.com/golf/player/_/id/3470/rory-mcilroy\" tabindex=\"0\">Rory McIlroy</a><span class=\"pl2 ns10 athleteCell__teamAbbrev\"></span></div></td><td class=\"age Table__TD\"><div class=\"age\">35</div></td></tr>\n",
      "<tr class=\"Table__TR Table__TR--sm Table__even\" data-idx=\"3\"><td class=\"Table__TD\">4</td><td class=\"Table__TD\"><div class=\"athleteCell__flag flex items-start mr7\"><img alt=\"United States\" class=\"Image Logo Athlete__Flag dib mr2 Logo__sm\" data-mptype=\"image\" src=\"data:image/gif;base64,R0lGODlhAQABAIAAAAAAAP///yH5BAEAAAAALAAAAAABAAEAAAIBRAA7\"/><a class=\"AnchorLink\" data-player-uid=\"s:1100~a:10592\" href=\"https://www.espn.com/golf/player/_/id/10592/collin-morikawa\" tabindex=\"0\">Collin Morikawa</a><span class=\"pl2 ns10 athleteCell__teamAbbrev\"></span></div></td><td class=\"age Table__TD\"><div class=\"age\">27</div></td></tr>\n",
      "<tr class=\"Table__TR Table__TR--sm Table__even\" data-idx=\"4\"><td class=\"Table__TD\">5</td><td class=\"Table__TD\"><div class=\"athleteCell__flag flex items-start mr7\"><img alt=\"United States\" class=\"Image Logo Athlete__Flag dib mr2 Logo__sm\" data-mptype=\"image\" src=\"data:image/gif;base64,R0lGODlhAQABAIAAAAAAAP///yH5BAEAAAAALAAAAAABAAEAAAIBRAA7\"/><a class=\"AnchorLink\" data-player-uid=\"s:1100~a:11119\" href=\"https://www.espn.com/golf/player/_/id/11119/wyndham-clark\" tabindex=\"0\">Wyndham Clark</a><span class=\"pl2 ns10 athleteCell__teamAbbrev\"></span></div></td><td class=\"age Table__TD\"><div class=\"age\">30</div></td></tr>\n",
      "<tr class=\"Table__TR Table__TR--sm Table__even\" data-idx=\"5\"><td class=\"Table__TD\">6</td><td class=\"Table__TD\"><div class=\"athleteCell__flag flex items-start mr7\"><img alt=\"Sweden\" class=\"Image Logo Athlete__Flag dib mr2 Logo__sm\" data-mptype=\"image\" src=\"data:image/gif;base64,R0lGODlhAQABAIAAAAAAAP///yH5BAEAAAAALAAAAAABAAEAAAIBRAA7\"/><a class=\"AnchorLink\" data-player-uid=\"s:1100~a:4375972\" href=\"https://www.espn.com/golf/player/_/id/4375972/ludvig-aberg\" tabindex=\"0\">Ludvig Åberg</a><span class=\"pl2 ns10 athleteCell__teamAbbrev\"></span></div></td><td class=\"age Table__TD\"><div class=\"age\">24</div></td></tr>\n",
      "<tr class=\"Table__TR Table__TR--sm Table__even\" data-idx=\"6\"><td class=\"Table__TD\">7</td><td class=\"Table__TD\"><div class=\"athleteCell__flag flex items-start mr7\"><img alt=\"United States\" class=\"Image Logo Athlete__Flag dib mr2 Logo__sm\" data-mptype=\"image\" src=\"data:image/gif;base64,R0lGODlhAQABAIAAAAAAAP///yH5BAEAAAAALAAAAAABAAEAAAIBRAA7\"/><a class=\"AnchorLink\" data-player-uid=\"s:1100~a:10980\" href=\"https://www.espn.com/golf/player/_/id/10980/sahith-theegala\" tabindex=\"0\">Sahith Theegala</a><span class=\"pl2 ns10 athleteCell__teamAbbrev\"></span></div></td><td class=\"age Table__TD\"><div class=\"age\">26</div></td></tr>\n",
      "<tr class=\"Table__TR Table__TR--sm Table__even\" data-idx=\"7\"><td class=\"Table__TD\">8</td><td class=\"Table__TD\"><div class=\"athleteCell__flag flex items-start mr7\"><img alt=\"Japan\" class=\"Image Logo Athlete__Flag dib mr2 Logo__sm\" data-mptype=\"image\" src=\"data:image/gif;base64,R0lGODlhAQABAIAAAAAAAP///yH5BAEAAAAALAAAAAABAAEAAAIBRAA7\"/><a class=\"AnchorLink\" data-player-uid=\"s:1100~a:5860\" href=\"https://www.espn.com/golf/player/_/id/5860/hideki-matsuyama\" tabindex=\"0\">Hideki Matsuyama</a><span class=\"pl2 ns10 athleteCell__teamAbbrev\"></span></div></td><td class=\"age Table__TD\"><div class=\"age\">32</div></td></tr>\n",
      "<tr class=\"Table__TR Table__TR--sm Table__even\" data-idx=\"8\"><td class=\"Table__TD\">9</td><td class=\"Table__TD\"><div class=\"athleteCell__flag flex items-start mr7\"><img alt=\"South Korea\" class=\"Image Logo Athlete__Flag dib mr2 Logo__sm\" data-mptype=\"image\" src=\"data:image/gif;base64,R0lGODlhAQABAIAAAAAAAP///yH5BAEAAAAALAAAAAABAAEAAAIBRAA7\"/><a class=\"AnchorLink\" data-player-uid=\"s:1100~a:11382\" href=\"https://www.espn.com/golf/player/_/id/11382/sungjae-im\" tabindex=\"0\">Sungjae Im</a><span class=\"pl2 ns10 athleteCell__teamAbbrev\"></span></div></td><td class=\"age Table__TD\"><div class=\"age\">26</div></td></tr>\n",
      "<tr class=\"Table__TR Table__TR--sm Table__even\" data-idx=\"9\"><td class=\"Table__TD\">10</td><td class=\"Table__TD\"><div class=\"athleteCell__flag flex items-start mr7\"><img alt=\"Ireland\" class=\"Image Logo Athlete__Flag dib mr2 Logo__sm\" data-mptype=\"image\" src=\"data:image/gif;base64,R0lGODlhAQABAIAAAAAAAP///yH5BAEAAAAALAAAAAABAAEAAAIBRAA7\"/><a class=\"AnchorLink\" data-player-uid=\"s:1100~a:4587\" href=\"https://www.espn.com/golf/player/_/id/4587/shane-lowry\" tabindex=\"0\">Shane Lowry</a><span class=\"pl2 ns10 athleteCell__teamAbbrev\"></span></div></td><td class=\"age Table__TD\"><div class=\"age\">37</div></td></tr>\n",
      "<tr class=\"Table__TR Table__TR--sm Table__even\" data-idx=\"10\"><td class=\"Table__TD\">11</td><td class=\"Table__TD\"><div class=\"athleteCell__flag flex items-start mr7\"><img alt=\"United States\" class=\"Image Logo Athlete__Flag dib mr2 Logo__sm\" data-mptype=\"image\" src=\"data:image/gif;base64,R0lGODlhAQABAIAAAAAAAP///yH5BAEAAAAALAAAAAABAAEAAAIBRAA7\"/><a class=\"AnchorLink\" data-player-uid=\"s:1100~a:6007\" href=\"https://www.espn.com/golf/player/_/id/6007/patrick-cantlay\" tabindex=\"0\">Patrick Cantlay</a><span class=\"pl2 ns10 athleteCell__teamAbbrev\"></span></div></td><td class=\"age Table__TD\"><div class=\"age\">32</div></td></tr>\n",
      "<tr class=\"Table__TR Table__TR--sm Table__even\" data-idx=\"11\"><td class=\"Table__TD\">12</td><td class=\"Table__TD\"><div class=\"athleteCell__flag flex items-start mr7\"><img alt=\"South Korea\" class=\"Image Logo Athlete__Flag dib mr2 Logo__sm\" data-mptype=\"image\" src=\"data:image/gif;base64,R0lGODlhAQABAIAAAAAAAP///yH5BAEAAAAALAAAAAABAAEAAAIBRAA7\"/><a class=\"AnchorLink\" data-player-uid=\"s:1100~a:5285\" href=\"https://www.espn.com/golf/player/_/id/5285/byeong-hun-an\" tabindex=\"0\">Byeong Hun An</a><span class=\"pl2 ns10 athleteCell__teamAbbrev\"></span></div></td><td class=\"age Table__TD\"><div class=\"age\">32</div></td></tr>\n",
      "<tr class=\"Table__TR Table__TR--sm Table__even\" data-idx=\"12\"><td class=\"Table__TD\">13</td><td class=\"Table__TD\"><div class=\"athleteCell__flag flex items-start mr7\"><img alt=\"United States\" class=\"Image Logo Athlete__Flag dib mr2 Logo__sm\" data-mptype=\"image\" src=\"data:image/gif;base64,R0lGODlhAQABAIAAAAAAAP///yH5BAEAAAAALAAAAAABAAEAAAIBRAA7\"/><a class=\"AnchorLink\" data-player-uid=\"s:1100~a:5409\" href=\"https://www.espn.com/golf/player/_/id/5409/russell-henley\" tabindex=\"0\">Russell Henley</a><span class=\"pl2 ns10 athleteCell__teamAbbrev\"></span></div></td><td class=\"age Table__TD\"><div class=\"age\">35</div></td></tr>\n",
      "<tr class=\"Table__TR Table__TR--sm Table__even\" data-idx=\"13\"><td class=\"Table__TD\">14</td><td class=\"Table__TD\"><div class=\"athleteCell__flag flex items-start mr7\"><img alt=\"United States\" class=\"Image Logo Athlete__Flag dib mr2 Logo__sm\" data-mptype=\"image\" src=\"data:image/gif;base64,R0lGODlhAQABAIAAAAAAAP///yH5BAEAAAAALAAAAAABAAEAAAIBRAA7\"/><a class=\"AnchorLink\" data-player-uid=\"s:1100~a:4419142\" href=\"https://www.espn.com/golf/player/_/id/4419142/akshay-bhatia\" tabindex=\"0\">Akshay Bhatia</a><span class=\"pl2 ns10 athleteCell__teamAbbrev\"></span></div></td><td class=\"age Table__TD\"><div class=\"age\">22</div></td></tr>\n",
      "<tr class=\"Table__TR Table__TR--sm Table__even\" data-idx=\"14\"><td class=\"Table__TD\">15</td><td class=\"Table__TD\"><div class=\"athleteCell__flag flex items-start mr7\"><img alt=\"United States\" class=\"Image Logo Athlete__Flag dib mr2 Logo__sm\" data-mptype=\"image\" src=\"data:image/gif;base64,R0lGODlhAQABAIAAAAAAAP///yH5BAEAAAAALAAAAAABAAEAAAIBRAA7\"/><a class=\"AnchorLink\" data-player-uid=\"s:1100~a:2230\" href=\"https://www.espn.com/golf/player/_/id/2230/tony-finau\" tabindex=\"0\">Tony Finau</a><span class=\"pl2 ns10 athleteCell__teamAbbrev\"></span></div></td><td class=\"age Table__TD\"><div class=\"age\">34</div></td></tr>\n",
      "<tr class=\"Table__TR Table__TR--sm Table__even\" data-idx=\"15\"><td class=\"Table__TD\">16</td><td class=\"Table__TD\"><div class=\"athleteCell__flag flex items-start mr7\"><img alt=\"France\" class=\"Image Logo Athlete__Flag dib mr2 Logo__sm\" data-mptype=\"image\" src=\"data:image/gif;base64,R0lGODlhAQABAIAAAAAAAP///yH5BAEAAAAALAAAAAABAAEAAAIBRAA7\"/><a class=\"AnchorLink\" data-player-uid=\"s:1100~a:10596\" href=\"https://www.espn.com/golf/player/_/id/10596/matthieu-pavon\" tabindex=\"0\">Matthieu Pavon</a><span class=\"pl2 ns10 athleteCell__teamAbbrev\"></span></div></td><td class=\"age Table__TD\"><div class=\"age\">31</div></td></tr>\n",
      "<tr class=\"Table__TR Table__TR--sm Table__even\" data-idx=\"16\"><td class=\"Table__TD\">17</td><td class=\"Table__TD\"><div class=\"athleteCell__flag flex items-start mr7\"><img alt=\"Scotland\" class=\"Image Logo Athlete__Flag dib mr2 Logo__sm\" data-mptype=\"image\" src=\"data:image/gif;base64,R0lGODlhAQABAIAAAAAAAP///yH5BAEAAAAALAAAAAABAAEAAAIBRAA7\"/><a class=\"AnchorLink\" data-player-uid=\"s:1100~a:11378\" href=\"https://www.espn.com/golf/player/_/id/11378/robert-macintyre\" tabindex=\"0\">Robert MacIntyre</a><span class=\"pl2 ns10 athleteCell__teamAbbrev\"></span></div></td><td class=\"age Table__TD\"><div class=\"age\">27</div></td></tr>\n",
      "<tr class=\"Table__TR Table__TR--sm Table__even\" data-idx=\"17\"><td class=\"Table__TD\">18</td><td class=\"Table__TD\"><div class=\"athleteCell__flag flex items-start mr7\"><img alt=\"Austria\" class=\"Image Logo Athlete__Flag dib mr2 Logo__sm\" data-mptype=\"image\" src=\"data:image/gif;base64,R0lGODlhAQABAIAAAAAAAP///yH5BAEAAAAALAAAAAABAAEAAAIBRAA7\"/><a class=\"AnchorLink\" data-player-uid=\"s:1100~a:8961\" href=\"https://www.espn.com/golf/player/_/id/8961/sepp-straka\" tabindex=\"0\">Sepp Straka</a><span class=\"pl2 ns10 athleteCell__teamAbbrev\"></span></div></td><td class=\"age Table__TD\"><div class=\"age\">31</div></td></tr>\n",
      "<tr class=\"Table__TR Table__TR--sm Table__even\" data-idx=\"18\"><td class=\"Table__TD\">19</td><td class=\"Table__TD\"><div class=\"athleteCell__flag flex items-start mr7\"><img alt=\"United States\" class=\"Image Logo Athlete__Flag dib mr2 Logo__sm\" data-mptype=\"image\" src=\"data:image/gif;base64,R0lGODlhAQABAIAAAAAAAP///yH5BAEAAAAALAAAAAABAAEAAAIBRAA7\"/><a class=\"AnchorLink\" data-player-uid=\"s:1100~a:4848\" href=\"https://www.espn.com/golf/player/_/id/4848/justin-thomas\" tabindex=\"0\">Justin Thomas</a><span class=\"pl2 ns10 athleteCell__teamAbbrev\"></span></div></td><td class=\"age Table__TD\"><div class=\"age\">31</div></td></tr>\n",
      "<tr class=\"Table__TR Table__TR--sm Table__even\" data-idx=\"19\"><td class=\"Table__TD\">20</td><td class=\"Table__TD\"><div class=\"athleteCell__flag flex items-start mr7\"><img alt=\"United States\" class=\"Image Logo Athlete__Flag dib mr2 Logo__sm\" data-mptype=\"image\" src=\"data:image/gif;base64,R0lGODlhAQABAIAAAAAAAP///yH5BAEAAAAALAAAAAABAAEAAAIBRAA7\"/><a class=\"AnchorLink\" data-player-uid=\"s:1100~a:6086\" href=\"https://www.espn.com/golf/player/_/id/6086/tom-hoge\" tabindex=\"0\">Tom Hoge</a><span class=\"pl2 ns10 athleteCell__teamAbbrev\"></span></div></td><td class=\"age Table__TD\"><div class=\"age\">35</div></td></tr>\n",
      "<tr class=\"Table__TR Table__TR--sm Table__even\" data-idx=\"20\"><td class=\"Table__TD\">21</td><td class=\"Table__TD\"><div class=\"athleteCell__flag flex items-start mr7\"><img alt=\"United States\" class=\"Image Logo Athlete__Flag dib mr2 Logo__sm\" data-mptype=\"image\" src=\"data:image/gif;base64,R0lGODlhAQABAIAAAAAAAP///yH5BAEAAAAALAAAAAABAAEAAAIBRAA7\"/><a class=\"AnchorLink\" data-player-uid=\"s:1100~a:1225\" href=\"https://www.espn.com/golf/player/_/id/1225/brian-harman\" tabindex=\"0\">Brian Harman</a><span class=\"pl2 ns10 athleteCell__teamAbbrev\"></span></div></td><td class=\"age Table__TD\"><div class=\"age\">37</div></td></tr>\n",
      "<tr class=\"Table__TR Table__TR--sm Table__even\" data-idx=\"21\"><td class=\"Table__TD\">22</td><td class=\"Table__TD\"><div class=\"athleteCell__flag flex items-start mr7\"><img alt=\"South Africa\" class=\"Image Logo Athlete__Flag dib mr2 Logo__sm\" data-mptype=\"image\" src=\"data:image/gif;base64,R0lGODlhAQABAIAAAAAAAP///yH5BAEAAAAALAAAAAABAAEAAAIBRAA7\"/><a class=\"AnchorLink\" data-player-uid=\"s:1100~a:9243\" href=\"https://www.espn.com/golf/player/_/id/9243/christiaan-bezuidenhout\" tabindex=\"0\">Christiaan Bezuidenhout</a><span class=\"pl2 ns10 athleteCell__teamAbbrev\"></span></div></td><td class=\"age Table__TD\"><div class=\"age\">30</div></td></tr>\n",
      "<tr class=\"Table__TR Table__TR--sm Table__even\" data-idx=\"22\"><td class=\"Table__TD\">23</td><td class=\"Table__TD\"><div class=\"athleteCell__flag flex items-start mr7\"><img alt=\"Australia\" class=\"Image Logo Athlete__Flag dib mr2 Logo__sm\" data-mptype=\"image\" src=\"data:image/gif;base64,R0lGODlhAQABAIAAAAAAAP///yH5BAEAAAAALAAAAAABAAEAAAIBRAA7\"/><a class=\"AnchorLink\" data-player-uid=\"s:1100~a:1680\" href=\"https://www.espn.com/golf/player/_/id/1680/jason-day\" tabindex=\"0\">Jason Day</a><span class=\"pl2 ns10 athleteCell__teamAbbrev\"></span></div></td><td class=\"age Table__TD\"><div class=\"age\">36</div></td></tr>\n",
      "<tr class=\"Table__TR Table__TR--sm Table__even\" data-idx=\"23\"><td class=\"Table__TD\">24</td><td class=\"Table__TD\"><div class=\"athleteCell__flag flex items-start mr7\"><img alt=\"United States\" class=\"Image Logo Athlete__Flag dib mr2 Logo__sm\" data-mptype=\"image\" src=\"data:image/gif;base64,R0lGODlhAQABAIAAAAAAAP///yH5BAEAAAAALAAAAAABAAEAAAIBRAA7\"/><a class=\"AnchorLink\" data-player-uid=\"s:1100~a:4602218\" href=\"https://www.espn.com/golf/player/_/id/4602218/davis-thompson\" tabindex=\"0\">Davis Thompson</a><span class=\"pl2 ns10 athleteCell__teamAbbrev\"></span></div></td><td class=\"age Table__TD\"><div class=\"age\">25</div></td></tr>\n",
      "<tr class=\"Table__TR Table__TR--sm Table__even\" data-idx=\"24\"><td class=\"Table__TD\">25</td><td class=\"Table__TD\"><div class=\"athleteCell__flag flex items-start mr7\"><img alt=\"United States\" class=\"Image Logo Athlete__Flag dib mr2 Logo__sm\" data-mptype=\"image\" src=\"data:image/gif;base64,R0lGODlhAQABAIAAAAAAAP///yH5BAEAAAAALAAAAAABAAEAAAIBRAA7\"/><a class=\"AnchorLink\" data-player-uid=\"s:1100~a:3449\" href=\"https://www.espn.com/golf/player/_/id/3449/chris-kirk\" tabindex=\"0\">Chris Kirk</a><span class=\"pl2 ns10 athleteCell__teamAbbrev\"></span></div></td><td class=\"age Table__TD\"><div class=\"age\">39</div></td></tr>\n",
      "<tr class=\"Table__TR Table__TR--sm Table__even\" data-idx=\"25\"><td class=\"Table__TD\">26</td><td class=\"Table__TD\"><div class=\"athleteCell__flag flex items-start mr7\"><img alt=\"United States\" class=\"Image Logo Athlete__Flag dib mr2 Logo__sm\" data-mptype=\"image\" src=\"data:image/gif;base64,R0lGODlhAQABAIAAAAAAAP///yH5BAEAAAAALAAAAAABAAEAAAIBRAA7\"/><a class=\"AnchorLink\" data-player-uid=\"s:1100~a:1651\" href=\"https://www.espn.com/golf/player/_/id/1651/billy-horschel\" tabindex=\"0\">Billy Horschel</a><span class=\"pl2 ns10 athleteCell__teamAbbrev\"></span></div></td><td class=\"age Table__TD\"><div class=\"age\">37</div></td></tr>\n",
      "<tr class=\"Table__TR Table__TR--sm Table__even\" data-idx=\"26\"><td class=\"Table__TD\">27</td><td class=\"Table__TD\"><div class=\"athleteCell__flag flex items-start mr7\"><img alt=\"Canada\" class=\"Image Logo Athlete__Flag dib mr2 Logo__sm\" data-mptype=\"image\" src=\"data:image/gif;base64,R0lGODlhAQABAIAAAAAAAP///yH5BAEAAAAALAAAAAABAAEAAAIBRAA7\"/><a class=\"AnchorLink\" data-player-uid=\"s:1100~a:9126\" href=\"https://www.espn.com/golf/player/_/id/9126/corey-conners\" tabindex=\"0\">Corey Conners</a><span class=\"pl2 ns10 athleteCell__teamAbbrev\"></span></div></td><td class=\"age Table__TD\"><div class=\"age\">32</div></td></tr>\n",
      "<tr class=\"Table__TR Table__TR--sm Table__even\" data-idx=\"27\"><td class=\"Table__TD\">28</td><td class=\"Table__TD\"><div class=\"athleteCell__flag flex items-start mr7\"><img alt=\"England\" class=\"Image Logo Athlete__Flag dib mr2 Logo__sm\" data-mptype=\"image\" src=\"data:image/gif;base64,R0lGODlhAQABAIAAAAAAAP///yH5BAEAAAAALAAAAAABAAEAAAIBRAA7\"/><a class=\"AnchorLink\" data-player-uid=\"s:1100~a:5539\" href=\"https://www.espn.com/golf/player/_/id/5539/tommy-fleetwood\" tabindex=\"0\">Tommy Fleetwood</a><span class=\"pl2 ns10 athleteCell__teamAbbrev\"></span></div></td><td class=\"age Table__TD\"><div class=\"age\">33</div></td></tr>\n",
      "<tr class=\"Table__TR Table__TR--sm Table__even\" data-idx=\"28\"><td class=\"Table__TD\">29</td><td class=\"Table__TD\"><div class=\"athleteCell__flag flex items-start mr7\"><img alt=\"United States\" class=\"Image Logo Athlete__Flag dib mr2 Logo__sm\" data-mptype=\"image\" src=\"data:image/gif;base64,R0lGODlhAQABAIAAAAAAAP///yH5BAEAAAAALAAAAAABAAEAAAIBRAA7\"/><a class=\"AnchorLink\" data-player-uid=\"s:1100~a:9938\" href=\"https://www.espn.com/golf/player/_/id/9938/sam-burns\" tabindex=\"0\">Sam Burns</a><span class=\"pl2 ns10 athleteCell__teamAbbrev\"></span></div></td><td class=\"age Table__TD\"><div class=\"age\">27</div></td></tr>\n",
      "<tr class=\"Table__TR Table__TR--sm Table__even\" data-idx=\"29\"><td class=\"Table__TD\">30</td><td class=\"Table__TD\"><div class=\"athleteCell__flag flex items-start mr7\"><img alt=\"Germany\" class=\"Image Logo Athlete__Flag dib mr2 Logo__sm\" data-mptype=\"image\" src=\"data:image/gif;base64,R0lGODlhAQABAIAAAAAAAP///yH5BAEAAAAALAAAAAABAAEAAAIBRAA7\"/><a class=\"AnchorLink\" data-player-uid=\"s:1100~a:6937\" href=\"https://www.espn.com/golf/player/_/id/6937/stephan-jaeger\" tabindex=\"0\">Stephan Jaeger</a><span class=\"pl2 ns10 athleteCell__teamAbbrev\"></span></div></td><td class=\"age Table__TD\"><div class=\"age\">35</div></td></tr>\n",
      "<tr class=\"Table__TR Table__TR--sm Table__even\" data-idx=\"30\"><td class=\"Table__TD\">31</td><td class=\"Table__TD\"><div class=\"athleteCell__flag flex items-start mr7\"><img alt=\"Belgium\" class=\"Image Logo Athlete__Flag dib mr2 Logo__sm\" data-mptype=\"image\" src=\"data:image/gif;base64,R0lGODlhAQABAIAAAAAAAP///yH5BAEAAAAALAAAAAABAAEAAAIBRAA7\"/><a class=\"AnchorLink\" data-player-uid=\"s:1100~a:4837\" href=\"https://www.espn.com/golf/player/_/id/4837/thomas-detry\" tabindex=\"0\">Thomas Detry</a><span class=\"pl2 ns10 athleteCell__teamAbbrev\"></span></div></td><td class=\"age Table__TD\"><div class=\"age\">31</div></td></tr>\n",
      "<tr class=\"Table__TR Table__TR--sm Table__even\" data-idx=\"31\"><td class=\"Table__TD\">32</td><td class=\"Table__TD\"><div class=\"athleteCell__flag flex items-start mr7\"><img alt=\"United States\" class=\"Image Logo Athlete__Flag dib mr2 Logo__sm\" data-mptype=\"image\" src=\"data:image/gif;base64,R0lGODlhAQABAIAAAAAAAP///yH5BAEAAAAALAAAAAABAAEAAAIBRAA7\"/><a class=\"AnchorLink\" data-player-uid=\"s:1100~a:8973\" href=\"https://www.espn.com/golf/player/_/id/8973/max-homa\" tabindex=\"0\">Max Homa</a><span class=\"pl2 ns10 athleteCell__teamAbbrev\"></span></div></td><td class=\"age Table__TD\"><div class=\"age\">33</div></td></tr>\n",
      "<tr class=\"Table__TR Table__TR--sm Table__even\" data-idx=\"32\"><td class=\"Table__TD\">33</td><td class=\"Table__TD\"><div class=\"athleteCell__flag flex items-start mr7\"><img alt=\"United States\" class=\"Image Logo Athlete__Flag dib mr2 Logo__sm\" data-mptype=\"image\" src=\"data:image/gif;base64,R0lGODlhAQABAIAAAAAAAP///yH5BAEAAAAALAAAAAABAAEAAAIBRAA7\"/><a class=\"AnchorLink\" data-player-uid=\"s:1100~a:10505\" href=\"https://www.espn.com/golf/player/_/id/10505/jt-poston\" tabindex=\"0\">J.T. Poston</a><span class=\"pl2 ns10 athleteCell__teamAbbrev\"></span></div></td><td class=\"age Table__TD\"><div class=\"age\">31</div></td></tr>\n",
      "<tr class=\"Table__TR Table__TR--sm Table__even\" data-idx=\"33\"><td class=\"Table__TD\">34</td><td class=\"Table__TD\"><div class=\"athleteCell__flag flex items-start mr7\"><img alt=\"United States\" class=\"Image Logo Athlete__Flag dib mr2 Logo__sm\" data-mptype=\"image\" src=\"data:image/gif;base64,R0lGODlhAQABAIAAAAAAAP///yH5BAEAAAAALAAAAAABAAEAAAIBRAA7\"/><a class=\"AnchorLink\" data-player-uid=\"s:1100~a:4425906\" href=\"https://www.espn.com/golf/player/_/id/4425906/cameron-young\" tabindex=\"0\">Cameron Young</a><span class=\"pl2 ns10 athleteCell__teamAbbrev\"></span></div></td><td class=\"age Table__TD\"><div class=\"age\">27</div></td></tr>\n",
      "<tr class=\"Table__TR Table__TR--sm Table__even\" data-idx=\"34\"><td class=\"Table__TD\">35</td><td class=\"Table__TD\"><div class=\"athleteCell__flag flex items-start mr7\"><img alt=\"South Korea\" class=\"Image Logo Athlete__Flag dib mr2 Logo__sm\" data-mptype=\"image\" src=\"data:image/gif;base64,R0lGODlhAQABAIAAAAAAAP///yH5BAEAAAAALAAAAAABAAEAAAIBRAA7\"/><a class=\"AnchorLink\" data-player-uid=\"s:1100~a:7081\" href=\"https://www.espn.com/golf/player/_/id/7081/si-woo-kim\" tabindex=\"0\">Si Woo Kim</a><span class=\"pl2 ns10 athleteCell__teamAbbrev\"></span></div></td><td class=\"age Table__TD\"><div class=\"age\">29</div></td></tr>\n",
      "<tr class=\"Table__TR Table__TR--sm Table__even\" data-idx=\"35\"><td class=\"Table__TD\">36</td><td class=\"Table__TD\"><div class=\"athleteCell__flag flex items-start mr7\"><img alt=\"Canada\" class=\"Image Logo Athlete__Flag dib mr2 Logo__sm\" data-mptype=\"image\" src=\"data:image/gif;base64,R0lGODlhAQABAIAAAAAAAP///yH5BAEAAAAALAAAAAABAAEAAAIBRAA7\"/><a class=\"AnchorLink\" data-player-uid=\"s:1100~a:5548\" href=\"https://www.espn.com/golf/player/_/id/5548/adam-hadwin\" tabindex=\"0\">Adam Hadwin</a><span class=\"pl2 ns10 athleteCell__teamAbbrev\"></span></div></td><td class=\"age Table__TD\"><div class=\"age\">36</div></td></tr>\n",
      "<tr class=\"Table__TR Table__TR--sm Table__even\" data-idx=\"36\"><td class=\"Table__TD\">37</td><td class=\"Table__TD\"><div class=\"athleteCell__flag flex items-start mr7\"><img alt=\"Canada\" class=\"Image Logo Athlete__Flag dib mr2 Logo__sm\" data-mptype=\"image\" src=\"data:image/gif;base64,R0lGODlhAQABAIAAAAAAAP///yH5BAEAAAAALAAAAAABAAEAAAIBRAA7\"/><a class=\"AnchorLink\" data-player-uid=\"s:1100~a:9658\" href=\"https://www.espn.com/golf/player/_/id/9658/taylor-pendrith\" tabindex=\"0\">Taylor Pendrith</a><span class=\"pl2 ns10 athleteCell__teamAbbrev\"></span></div></td><td class=\"age Table__TD\"><div class=\"age\">33</div></td></tr>\n",
      "<tr class=\"Table__TR Table__TR--sm Table__even\" data-idx=\"37\"><td class=\"Table__TD\">38</td><td class=\"Table__TD\"><div class=\"athleteCell__flag flex items-start mr7\"><img alt=\"England\" class=\"Image Logo Athlete__Flag dib mr2 Logo__sm\" data-mptype=\"image\" src=\"data:image/gif;base64,R0lGODlhAQABAIAAAAAAAP///yH5BAEAAAAALAAAAAABAAEAAAIBRAA7\"/><a class=\"AnchorLink\" data-player-uid=\"s:1100~a:9037\" href=\"https://www.espn.com/golf/player/_/id/9037/matt-fitzpatrick\" tabindex=\"0\">Matt Fitzpatrick</a><span class=\"pl2 ns10 athleteCell__teamAbbrev\"></span></div></td><td class=\"age Table__TD\"><div class=\"age\">29</div></td></tr>\n",
      "<tr class=\"Table__TR Table__TR--sm Table__even\" data-idx=\"38\"><td class=\"Table__TD\">39</td><td class=\"Table__TD\"><div class=\"athleteCell__flag flex items-start mr7\"><img alt=\"Sweden\" class=\"Image Logo Athlete__Flag dib mr2 Logo__sm\" data-mptype=\"image\" src=\"data:image/gif;base64,R0lGODlhAQABAIAAAAAAAP///yH5BAEAAAAALAAAAAABAAEAAAIBRAA7\"/><a class=\"AnchorLink\" data-player-uid=\"s:1100~a:3832\" href=\"https://www.espn.com/golf/player/_/id/3832/alex-noren\" tabindex=\"0\">Alex Noren</a><span class=\"pl2 ns10 athleteCell__teamAbbrev\"></span></div></td><td class=\"age Table__TD\"><div class=\"age\">42</div></td></tr>\n",
      "<tr class=\"Table__TR Table__TR--sm Table__even\" data-idx=\"39\"><td class=\"Table__TD\">40</td><td class=\"Table__TD\"><div class=\"athleteCell__flag flex items-start mr7\"><img alt=\"South Korea\" class=\"Image Logo Athlete__Flag dib mr2 Logo__sm\" data-mptype=\"image\" src=\"data:image/gif;base64,R0lGODlhAQABAIAAAAAAAP///yH5BAEAAAAALAAAAAABAAEAAAIBRAA7\"/><a class=\"AnchorLink\" data-player-uid=\"s:1100~a:4602673\" href=\"https://www.espn.com/golf/player/_/id/4602673/tom-kim\" tabindex=\"0\">Tom Kim</a><span class=\"pl2 ns10 athleteCell__teamAbbrev\"></span></div></td><td class=\"age Table__TD\"><div class=\"age\">22</div></td></tr>\n",
      "<tr class=\"Table__TR Table__TR--sm Table__even\" data-idx=\"40\"><td class=\"Table__TD\">41</td><td class=\"Table__TD\"><div class=\"athleteCell__flag flex items-start mr7\"><img alt=\"Australia\" class=\"Image Logo Athlete__Flag dib mr2 Logo__sm\" data-mptype=\"image\" src=\"data:image/gif;base64,R0lGODlhAQABAIAAAAAAAP///yH5BAEAAAAALAAAAAABAAEAAAIBRAA7\"/><a class=\"AnchorLink\" data-player-uid=\"s:1100~a:388\" href=\"https://www.espn.com/golf/player/_/id/388/adam-scott\" tabindex=\"0\">Adam Scott</a><span class=\"pl2 ns10 athleteCell__teamAbbrev\"></span></div></td><td class=\"age Table__TD\"><div class=\"age\">44</div></td></tr>\n",
      "<tr class=\"Table__TR Table__TR--sm Table__even\" data-idx=\"41\"><td class=\"Table__TD\">42</td><td class=\"Table__TD\"><div class=\"athleteCell__flag flex items-start mr7\"><img alt=\"United States\" class=\"Image Logo Athlete__Flag dib mr2 Logo__sm\" data-mptype=\"image\" src=\"data:image/gif;base64,R0lGODlhAQABAIAAAAAAAP///yH5BAEAAAAALAAAAAABAAEAAAIBRAA7\"/><a class=\"AnchorLink\" data-player-uid=\"s:1100~a:4513\" href=\"https://www.espn.com/golf/player/_/id/4513/keegan-bradley\" tabindex=\"0\">Keegan Bradley</a><span class=\"pl2 ns10 athleteCell__teamAbbrev\"></span></div></td><td class=\"age Table__TD\"><div class=\"age\">38</div></td></tr>\n",
      "<tr class=\"Table__TR Table__TR--sm Table__even\" data-idx=\"42\"><td class=\"Table__TD\">43</td><td class=\"Table__TD\"><div class=\"athleteCell__flag flex items-start mr7\"><img alt=\"United States\" class=\"Image Logo Athlete__Flag dib mr2 Logo__sm\" data-mptype=\"image\" src=\"data:image/gif;base64,R0lGODlhAQABAIAAAAAAAP///yH5BAEAAAAALAAAAAABAAEAAAIBRAA7\"/><a class=\"AnchorLink\" data-player-uid=\"s:1100~a:10054\" href=\"https://www.espn.com/golf/player/_/id/10054/denny-mccarthy\" tabindex=\"0\">Denny McCarthy</a><span class=\"pl2 ns10 athleteCell__teamAbbrev\"></span></div></td><td class=\"age Table__TD\"><div class=\"age\">31</div></td></tr>\n",
      "<tr class=\"Table__TR Table__TR--sm Table__even\" data-idx=\"43\"><td class=\"Table__TD\">44</td><td class=\"Table__TD\"><div class=\"athleteCell__flag flex items-start mr7\"><img alt=\"United States\" class=\"Image Logo Athlete__Flag dib mr2 Logo__sm\" data-mptype=\"image\" src=\"data:image/gif;base64,R0lGODlhAQABAIAAAAAAAP///yH5BAEAAAAALAAAAAABAAEAAAIBRAA7\"/><a class=\"AnchorLink\" data-player-uid=\"s:1100~a:9877\" href=\"https://www.espn.com/golf/player/_/id/9877/will-zalatoris\" tabindex=\"0\">Will Zalatoris</a><span class=\"pl2 ns10 athleteCell__teamAbbrev\"></span></div></td><td class=\"age Table__TD\"><div class=\"age\">27</div></td></tr>\n",
      "<tr class=\"Table__TR Table__TR--sm Table__even\" data-idx=\"44\"><td class=\"Table__TD\">45</td><td class=\"Table__TD\"><div class=\"athleteCell__flag flex items-start mr7\"><img alt=\"Australia\" class=\"Image Logo Athlete__Flag dib mr2 Logo__sm\" data-mptype=\"image\" src=\"data:image/gif;base64,R0lGODlhAQABAIAAAAAAAP///yH5BAEAAAAALAAAAAABAAEAAAIBRAA7\"/><a class=\"AnchorLink\" data-player-uid=\"s:1100~a:10863\" href=\"https://www.espn.com/golf/player/_/id/10863/cam-davis\" tabindex=\"0\">Cam Davis</a><span class=\"pl2 ns10 athleteCell__teamAbbrev\"></span></div></td><td class=\"age Table__TD\"><div class=\"age\">29</div></td></tr>\n",
      "<tr class=\"Table__TR Table__TR--sm Table__even\" data-idx=\"45\"><td class=\"Table__TD\">46</td><td class=\"Table__TD\"><div class=\"athleteCell__flag flex items-start mr7\"><img alt=\"Canada\" class=\"Image Logo Athlete__Flag dib mr2 Logo__sm\" data-mptype=\"image\" src=\"data:image/gif;base64,R0lGODlhAQABAIAAAAAAAP///yH5BAEAAAAALAAAAAABAAEAAAIBRAA7\"/><a class=\"AnchorLink\" data-player-uid=\"s:1100~a:3792\" href=\"https://www.espn.com/golf/player/_/id/3792/nick-taylor\" tabindex=\"0\">Nick Taylor</a><span class=\"pl2 ns10 athleteCell__teamAbbrev\"></span></div></td><td class=\"age Table__TD\"><div class=\"age\">36</div></td></tr>\n",
      "<tr class=\"Table__TR Table__TR--sm Table__even\" data-idx=\"46\"><td class=\"Table__TD\">46</td><td class=\"Table__TD\"><div class=\"athleteCell__flag flex items-start mr7\"><img alt=\"United States\" class=\"Image Logo Athlete__Flag dib mr2 Logo__sm\" data-mptype=\"image\" src=\"data:image/gif;base64,R0lGODlhAQABAIAAAAAAAP///yH5BAEAAAAALAAAAAABAAEAAAIBRAA7\"/><a class=\"AnchorLink\" data-player-uid=\"s:1100~a:5408\" href=\"https://www.espn.com/golf/player/_/id/5408/harris-english\" tabindex=\"0\">Harris English</a><span class=\"pl2 ns10 athleteCell__teamAbbrev\"></span></div></td><td class=\"age Table__TD\"><div class=\"age\">34</div></td></tr>\n",
      "<tr class=\"Table__TR Table__TR--sm Table__even\" data-idx=\"47\"><td class=\"Table__TD\">46</td><td class=\"Table__TD\"><div class=\"athleteCell__flag flex items-start mr7\"><img alt=\"United States\" class=\"Image Logo Athlete__Flag dib mr2 Logo__sm\" data-mptype=\"image\" src=\"data:image/gif;base64,R0lGODlhAQABAIAAAAAAAP///yH5BAEAAAAALAAAAAABAAEAAAIBRAA7\"/><a class=\"AnchorLink\" data-player-uid=\"s:1100~a:4425898\" href=\"https://www.espn.com/golf/player/_/id/4425898/austin-eckroat\" tabindex=\"0\">Austin Eckroat</a><span class=\"pl2 ns10 athleteCell__teamAbbrev\"></span></div></td><td class=\"age Table__TD\"><div class=\"age\">25</div></td></tr>\n",
      "<tr class=\"Table__TR Table__TR--sm Table__even\" data-idx=\"48\"><td class=\"Table__TD\">49</td><td class=\"Table__TD\"><div class=\"athleteCell__flag flex items-start mr7\"><img alt=\"Canada\" class=\"Image Logo Athlete__Flag dib mr2 Logo__sm\" data-mptype=\"image\" src=\"data:image/gif;base64,R0lGODlhAQABAIAAAAAAAP///yH5BAEAAAAALAAAAAABAAEAAAIBRAA7\"/><a class=\"AnchorLink\" data-player-uid=\"s:1100~a:6931\" href=\"https://www.espn.com/golf/player/_/id/6931/mackenzie-hughes\" tabindex=\"0\">Mackenzie Hughes</a><span class=\"pl2 ns10 athleteCell__teamAbbrev\"></span></div></td><td class=\"age Table__TD\"><div class=\"age\">33</div></td></tr>\n",
      "<tr class=\"Table__TR Table__TR--sm Table__even\" data-idx=\"49\"><td class=\"Table__TD\">50</td><td class=\"Table__TD\"><div class=\"athleteCell__flag flex items-start mr7\"><img alt=\"United States\" class=\"Image Logo Athlete__Flag dib mr2 Logo__sm\" data-mptype=\"image\" src=\"data:image/gif;base64,R0lGODlhAQABAIAAAAAAAP///yH5BAEAAAAALAAAAAABAAEAAAIBRAA7\"/><a class=\"AnchorLink\" data-player-uid=\"s:1100~a:9843\" href=\"https://www.espn.com/golf/player/_/id/9843/jake-knapp\" tabindex=\"0\">Jake Knapp</a><span class=\"pl2 ns10 athleteCell__teamAbbrev\"></span></div></td><td class=\"age Table__TD\"><div class=\"age\">30</div></td></tr>\n",
      "<tr class=\"Table__TR Table__TR--sm Table__even\" data-idx=\"0\"><td class=\"Table__TD\">$28,148,692</td><td class=\"Table__TD\">5993</td><td class=\"Table__TD\">16</td><td class=\"Table__TD\">63</td><td class=\"Table__TD\">16</td><td class=\"Table__TD\">14</td><td class=\"Table__TD\">6</td><td class=\"Table__TD\">68.0</td><td class=\"Table__TD\">301.4</td><td class=\"Table__TD\">66.7</td><td class=\"Table__TD\">73.5</td><td class=\"Table__TD\">1.690</td><td class=\"Table__TD\">52.4</td><td class=\"Table__TD\">4.873</td></tr>\n",
      "<tr class=\"Table__TR Table__TR--sm Table__even\" data-idx=\"1\"><td class=\"Table__TD\">$15,867,160</td><td class=\"Table__TD\">4057</td><td class=\"Table__TD\">18</td><td class=\"Table__TD\">67</td><td class=\"Table__TD\">17</td><td class=\"Table__TD\">12</td><td class=\"Table__TD\">2</td><td class=\"Table__TD\">68.6</td><td class=\"Table__TD\">305.7</td><td class=\"Table__TD\">62.0</td><td class=\"Table__TD\">70.2</td><td class=\"Table__TD\">1.725</td><td class=\"Table__TD\">58.1</td><td class=\"Table__TD\">4.284</td></tr>\n",
      "<tr class=\"Table__TR Table__TR--sm Table__even\" data-idx=\"2\"><td class=\"Table__TD\">$10,353,190</td><td class=\"Table__TD\">2545</td><td class=\"Table__TD\">16</td><td class=\"Table__TD\">57</td><td class=\"Table__TD\">14</td><td class=\"Table__TD\">6</td><td class=\"Table__TD\">2</td><td class=\"Table__TD\">69.6</td><td class=\"Table__TD\">319.2</td><td class=\"Table__TD\">61.8</td><td class=\"Table__TD\">66.0</td><td class=\"Table__TD\">1.739</td><td class=\"Table__TD\">58.2</td><td class=\"Table__TD\">4.175</td></tr>\n",
      "<tr class=\"Table__TR Table__TR--sm Table__even\" data-idx=\"3\"><td class=\"Table__TD\">$8,030,477</td><td class=\"Table__TD\">2456</td><td class=\"Table__TD\">18</td><td class=\"Table__TD\">63</td><td class=\"Table__TD\">15</td><td class=\"Table__TD\">7</td><td class=\"Table__TD\">0</td><td class=\"Table__TD\">69.5</td><td class=\"Table__TD\">293.3</td><td class=\"Table__TD\">71.5</td><td class=\"Table__TD\">65.3</td><td class=\"Table__TD\">1.711</td><td class=\"Table__TD\">52.8</td><td class=\"Table__TD\">4.302</td></tr>\n",
      "<tr class=\"Table__TR Table__TR--sm Table__even\" data-idx=\"4\"><td class=\"Table__TD\">$9,912,305</td><td class=\"Table__TD\">2154</td><td class=\"Table__TD\">17</td><td class=\"Table__TD\">57</td><td class=\"Table__TD\">12</td><td class=\"Table__TD\">6</td><td class=\"Table__TD\">1</td><td class=\"Table__TD\">69.7</td><td class=\"Table__TD\">312.9</td><td class=\"Table__TD\">53.4</td><td class=\"Table__TD\">65.4</td><td class=\"Table__TD\">1.702</td><td class=\"Table__TD\">62.4</td><td class=\"Table__TD\">4.263</td></tr>\n",
      "<tr class=\"Table__TR Table__TR--sm Table__even\" data-idx=\"5\"><td class=\"Table__TD\">$8,149,523</td><td class=\"Table__TD\">2092</td><td class=\"Table__TD\">16</td><td class=\"Table__TD\">59</td><td class=\"Table__TD\">14</td><td class=\"Table__TD\">7</td><td class=\"Table__TD\">0</td><td class=\"Table__TD\">69.5</td><td class=\"Table__TD\">308.0</td><td class=\"Table__TD\">63.1</td><td class=\"Table__TD\">69.0</td><td class=\"Table__TD\">1.749</td><td class=\"Table__TD\">55.3</td><td class=\"Table__TD\">4.136</td></tr>\n",
      "<tr class=\"Table__TR Table__TR--sm Table__even\" data-idx=\"6\"><td class=\"Table__TD\">$7,881,210</td><td class=\"Table__TD\">1945</td><td class=\"Table__TD\">20</td><td class=\"Table__TD\">69</td><td class=\"Table__TD\">16</td><td class=\"Table__TD\">6</td><td class=\"Table__TD\">0</td><td class=\"Table__TD\">69.9</td><td class=\"Table__TD\">302.7</td><td class=\"Table__TD\">59.9</td><td class=\"Table__TD\">67.6</td><td class=\"Table__TD\">1.748</td><td class=\"Table__TD\">50.9</td><td class=\"Table__TD\">4.072</td></tr>\n",
      "<tr class=\"Table__TR Table__TR--sm Table__even\" data-idx=\"7\"><td class=\"Table__TD\">$7,637,611</td><td class=\"Table__TD\">1899</td><td class=\"Table__TD\">16</td><td class=\"Table__TD\">61</td><td class=\"Table__TD\">15</td><td class=\"Table__TD\">5</td><td class=\"Table__TD\">1</td><td class=\"Table__TD\">70.0</td><td class=\"Table__TD\">297.2</td><td class=\"Table__TD\">59.6</td><td class=\"Table__TD\">65.9</td><td class=\"Table__TD\">1.772</td><td class=\"Table__TD\">61.6</td><td class=\"Table__TD\">3.705</td></tr>\n",
      "<tr class=\"Table__TR Table__TR--sm Table__even\" data-idx=\"8\"><td class=\"Table__TD\">$5,514,330</td><td class=\"Table__TD\">1883</td><td class=\"Table__TD\">21</td><td class=\"Table__TD\">71</td><td class=\"Table__TD\">15</td><td class=\"Table__TD\">7</td><td class=\"Table__TD\">0</td><td class=\"Table__TD\">69.8</td><td class=\"Table__TD\">295.8</td><td class=\"Table__TD\">64.0</td><td class=\"Table__TD\">64.3</td><td class=\"Table__TD\">1.738</td><td class=\"Table__TD\">61.7</td><td class=\"Table__TD\">4.239</td></tr>\n",
      "<tr class=\"Table__TR Table__TR--sm Table__even\" data-idx=\"9\"><td class=\"Table__TD\">$5,704,520</td><td class=\"Table__TD\">1867</td><td class=\"Table__TD\">16</td><td class=\"Table__TD\">59</td><td class=\"Table__TD\">14</td><td class=\"Table__TD\">6</td><td class=\"Table__TD\">1</td><td class=\"Table__TD\">70.2</td><td class=\"Table__TD\">297.2</td><td class=\"Table__TD\">67.3</td><td class=\"Table__TD\">67.0</td><td class=\"Table__TD\">1.750</td><td class=\"Table__TD\">55.7</td><td class=\"Table__TD\">3.983</td></tr>\n",
      "<tr class=\"Table__TR Table__TR--sm Table__even\" data-idx=\"10\"><td class=\"Table__TD\">$5,530,854</td><td class=\"Table__TD\">1780</td><td class=\"Table__TD\">16</td><td class=\"Table__TD\">57</td><td class=\"Table__TD\">14</td><td class=\"Table__TD\">4</td><td class=\"Table__TD\">0</td><td class=\"Table__TD\">70.0</td><td class=\"Table__TD\">299.1</td><td class=\"Table__TD\">58.3</td><td class=\"Table__TD\">63.1</td><td class=\"Table__TD\">1.749</td><td class=\"Table__TD\">60.4</td><td class=\"Table__TD\">4.053</td></tr>\n",
      "<tr class=\"Table__TR Table__TR--sm Table__even\" data-idx=\"11\"><td class=\"Table__TD\">$5,424,103</td><td class=\"Table__TD\">1755</td><td class=\"Table__TD\">19</td><td class=\"Table__TD\">63</td><td class=\"Table__TD\">14</td><td class=\"Table__TD\">5</td><td class=\"Table__TD\">0</td><td class=\"Table__TD\">70.1</td><td class=\"Table__TD\">314.3</td><td class=\"Table__TD\">54.6</td><td class=\"Table__TD\">68.0</td><td class=\"Table__TD\">1.735</td><td class=\"Table__TD\">59.3</td><td class=\"Table__TD\">4.349</td></tr>\n",
      "<tr class=\"Table__TR Table__TR--sm Table__even\" data-idx=\"12\"><td class=\"Table__TD\">$4,721,969</td><td class=\"Table__TD\">1671</td><td class=\"Table__TD\">16</td><td class=\"Table__TD\">61</td><td class=\"Table__TD\">15</td><td class=\"Table__TD\">6</td><td class=\"Table__TD\">0</td><td class=\"Table__TD\">70.0</td><td class=\"Table__TD\">288.4</td><td class=\"Table__TD\">69.3</td><td class=\"Table__TD\">64.7</td><td class=\"Table__TD\">1.724</td><td class=\"Table__TD\">70.3</td><td class=\"Table__TD\">3.803</td></tr>\n",
      "<tr class=\"Table__TR Table__TR--sm Table__even\" data-idx=\"13\"><td class=\"Table__TD\">$4,842,490</td><td class=\"Table__TD\">1606</td><td class=\"Table__TD\">21</td><td class=\"Table__TD\">71</td><td class=\"Table__TD\">14</td><td class=\"Table__TD\">3</td><td class=\"Table__TD\">1</td><td class=\"Table__TD\">69.9</td><td class=\"Table__TD\">298.8</td><td class=\"Table__TD\">65.4</td><td class=\"Table__TD\">66.2</td><td class=\"Table__TD\">1.736</td><td class=\"Table__TD\">52.3</td><td class=\"Table__TD\">3.986</td></tr>\n",
      "<tr class=\"Table__TR Table__TR--sm Table__even\" data-idx=\"14\"><td class=\"Table__TD\">$4,881,060</td><td class=\"Table__TD\">1579</td><td class=\"Table__TD\">18</td><td class=\"Table__TD\">67</td><td class=\"Table__TD\">16</td><td class=\"Table__TD\">5</td><td class=\"Table__TD\">0</td><td class=\"Table__TD\">69.8</td><td class=\"Table__TD\">307.3</td><td class=\"Table__TD\">57.8</td><td class=\"Table__TD\">68.7</td><td class=\"Table__TD\">1.761</td><td class=\"Table__TD\">58.1</td><td class=\"Table__TD\">4.194</td></tr>\n",
      "<tr class=\"Table__TR Table__TR--sm Table__even\" data-idx=\"15\"><td class=\"Table__TD\">$5,078,046</td><td class=\"Table__TD\">1569</td><td class=\"Table__TD\">16</td><td class=\"Table__TD\">55</td><td class=\"Table__TD\">12</td><td class=\"Table__TD\">4</td><td class=\"Table__TD\">1</td><td class=\"Table__TD\">70.6</td><td class=\"Table__TD\">297.6</td><td class=\"Table__TD\">63.3</td><td class=\"Table__TD\">65.1</td><td class=\"Table__TD\">1.781</td><td class=\"Table__TD\">47.3</td><td class=\"Table__TD\">3.636</td></tr>\n",
      "<tr class=\"Table__TR Table__TR--sm Table__even\" data-idx=\"16\"><td class=\"Table__TD\">$4,755,384</td><td class=\"Table__TD\">1535</td><td class=\"Table__TD\">21</td><td class=\"Table__TD\">63</td><td class=\"Table__TD\">11</td><td class=\"Table__TD\">5</td><td class=\"Table__TD\">2</td><td class=\"Table__TD\">69.5</td><td class=\"Table__TD\">303.0</td><td class=\"Table__TD\">57.1</td><td class=\"Table__TD\">66.4</td><td class=\"Table__TD\">1.759</td><td class=\"Table__TD\">62.5</td><td class=\"Table__TD\">3.873</td></tr>\n",
      "<tr class=\"Table__TR Table__TR--sm Table__even\" data-idx=\"17\"><td class=\"Table__TD\">$4,213,968</td><td class=\"Table__TD\">1498</td><td class=\"Table__TD\">20</td><td class=\"Table__TD\">63</td><td class=\"Table__TD\">13</td><td class=\"Table__TD\">4</td><td class=\"Table__TD\">0</td><td class=\"Table__TD\">70.5</td><td class=\"Table__TD\">292.5</td><td class=\"Table__TD\">72.0</td><td class=\"Table__TD\">67.9</td><td class=\"Table__TD\">1.771</td><td class=\"Table__TD\">46.7</td><td class=\"Table__TD\">3.603</td></tr>\n",
      "<tr class=\"Table__TR Table__TR--sm Table__even\" data-idx=\"18\"><td class=\"Table__TD\">$4,243,561</td><td class=\"Table__TD\">1445</td><td class=\"Table__TD\">16</td><td class=\"Table__TD\">55</td><td class=\"Table__TD\">12</td><td class=\"Table__TD\">5</td><td class=\"Table__TD\">0</td><td class=\"Table__TD\">69.9</td><td class=\"Table__TD\">307.2</td><td class=\"Table__TD\">56.1</td><td class=\"Table__TD\">64.8</td><td class=\"Table__TD\">1.746</td><td class=\"Table__TD\">50.6</td><td class=\"Table__TD\">4.236</td></tr>\n",
      "<tr class=\"Table__TR Table__TR--sm Table__even\" data-idx=\"19\"><td class=\"Table__TD\">$4,227,518</td><td class=\"Table__TD\">1411</td><td class=\"Table__TD\">22</td><td class=\"Table__TD\">77</td><td class=\"Table__TD\">18</td><td class=\"Table__TD\">3</td><td class=\"Table__TD\">0</td><td class=\"Table__TD\">69.7</td><td class=\"Table__TD\">293.2</td><td class=\"Table__TD\">62.1</td><td class=\"Table__TD\">67.5</td><td class=\"Table__TD\">1.725</td><td class=\"Table__TD\">50.8</td><td class=\"Table__TD\">4.312</td></tr>\n",
      "<tr class=\"Table__TR Table__TR--sm Table__even\" data-idx=\"20\"><td class=\"Table__TD\">$4,870,348</td><td class=\"Table__TD\">1409</td><td class=\"Table__TD\">19</td><td class=\"Table__TD\">71</td><td class=\"Table__TD\">17</td><td class=\"Table__TD\">3</td><td class=\"Table__TD\">0</td><td class=\"Table__TD\">70.0</td><td class=\"Table__TD\">291.9</td><td class=\"Table__TD\">65.6</td><td class=\"Table__TD\">65.3</td><td class=\"Table__TD\">1.731</td><td class=\"Table__TD\">47.2</td><td class=\"Table__TD\">3.873</td></tr>\n",
      "<tr class=\"Table__TR Table__TR--sm Table__even\" data-idx=\"21\"><td class=\"Table__TD\">$4,651,538</td><td class=\"Table__TD\">1370</td><td class=\"Table__TD\">19</td><td class=\"Table__TD\">64</td><td class=\"Table__TD\">14</td><td class=\"Table__TD\">3</td><td class=\"Table__TD\">0</td><td class=\"Table__TD\">69.9</td><td class=\"Table__TD\">289.3</td><td class=\"Table__TD\">60.7</td><td class=\"Table__TD\">61.9</td><td class=\"Table__TD\">1.713</td><td class=\"Table__TD\">61.3</td><td class=\"Table__TD\">3.844</td></tr>\n",
      "<tr class=\"Table__TR Table__TR--sm Table__even\" data-idx=\"22\"><td class=\"Table__TD\">$3,822,352</td><td class=\"Table__TD\">1345</td><td class=\"Table__TD\">18</td><td class=\"Table__TD\">65</td><td class=\"Table__TD\">15</td><td class=\"Table__TD\">4</td><td class=\"Table__TD\">0</td><td class=\"Table__TD\">69.9</td><td class=\"Table__TD\">299.8</td><td class=\"Table__TD\">60.9</td><td class=\"Table__TD\">63.5</td><td class=\"Table__TD\">1.722</td><td class=\"Table__TD\">62.4</td><td class=\"Table__TD\">4.046</td></tr>\n",
      "<tr class=\"Table__TR Table__TR--sm Table__even\" data-idx=\"23\"><td class=\"Table__TD\">$3,802,522</td><td class=\"Table__TD\">1333</td><td class=\"Table__TD\">22</td><td class=\"Table__TD\">74</td><td class=\"Table__TD\">16</td><td class=\"Table__TD\">4</td><td class=\"Table__TD\">1</td><td class=\"Table__TD\">69.4</td><td class=\"Table__TD\">304.2</td><td class=\"Table__TD\">61.0</td><td class=\"Table__TD\">68.1</td><td class=\"Table__TD\">1.728</td><td class=\"Table__TD\">58.6</td><td class=\"Table__TD\">4.189</td></tr>\n",
      "<tr class=\"Table__TR Table__TR--sm Table__even\" data-idx=\"24\"><td class=\"Table__TD\">$5,396,536</td><td class=\"Table__TD\">1318</td><td class=\"Table__TD\">18</td><td class=\"Table__TD\">63</td><td class=\"Table__TD\">14</td><td class=\"Table__TD\">2</td><td class=\"Table__TD\">1</td><td class=\"Table__TD\">70.4</td><td class=\"Table__TD\">296.5</td><td class=\"Table__TD\">63.1</td><td class=\"Table__TD\">64.4</td><td class=\"Table__TD\">1.747</td><td class=\"Table__TD\">51.8</td><td class=\"Table__TD\">4.000</td></tr>\n",
      "<tr class=\"Table__TR Table__TR--sm Table__even\" data-idx=\"25\"><td class=\"Table__TD\">$4,039,033</td><td class=\"Table__TD\">1312</td><td class=\"Table__TD\">19</td><td class=\"Table__TD\">63</td><td class=\"Table__TD\">13</td><td class=\"Table__TD\">5</td><td class=\"Table__TD\">1</td><td class=\"Table__TD\">69.7</td><td class=\"Table__TD\">297.5</td><td class=\"Table__TD\">64.2</td><td class=\"Table__TD\">65.6</td><td class=\"Table__TD\">1.757</td><td class=\"Table__TD\">62.7</td><td class=\"Table__TD\">3.841</td></tr>\n",
      "<tr class=\"Table__TR Table__TR--sm Table__even\" data-idx=\"26\"><td class=\"Table__TD\">$3,609,189</td><td class=\"Table__TD\">1249</td><td class=\"Table__TD\">20</td><td class=\"Table__TD\">75</td><td class=\"Table__TD\">19</td><td class=\"Table__TD\">3</td><td class=\"Table__TD\">0</td><td class=\"Table__TD\">69.8</td><td class=\"Table__TD\">299.3</td><td class=\"Table__TD\">65.0</td><td class=\"Table__TD\">70.2</td><td class=\"Table__TD\">1.756</td><td class=\"Table__TD\">52.5</td><td class=\"Table__TD\">4.067</td></tr>\n",
      "<tr class=\"Table__TR Table__TR--sm Table__even\" data-idx=\"27\"><td class=\"Table__TD\">$3,704,908</td><td class=\"Table__TD\">1223</td><td class=\"Table__TD\">16</td><td class=\"Table__TD\">59</td><td class=\"Table__TD\">14</td><td class=\"Table__TD\">3</td><td class=\"Table__TD\">0</td><td class=\"Table__TD\">70.1</td><td class=\"Table__TD\">298.0</td><td class=\"Table__TD\">69.4</td><td class=\"Table__TD\">66.3</td><td class=\"Table__TD\">1.771</td><td class=\"Table__TD\">58.1</td><td class=\"Table__TD\">3.593</td></tr>\n",
      "<tr class=\"Table__TR Table__TR--sm Table__even\" data-idx=\"28\"><td class=\"Table__TD\">$3,771,200</td><td class=\"Table__TD\">1209</td><td class=\"Table__TD\">17</td><td class=\"Table__TD\">61</td><td class=\"Table__TD\">14</td><td class=\"Table__TD\">6</td><td class=\"Table__TD\">0</td><td class=\"Table__TD\">69.9</td><td class=\"Table__TD\">305.3</td><td class=\"Table__TD\">62.6</td><td class=\"Table__TD\">64.1</td><td class=\"Table__TD\">1.716</td><td class=\"Table__TD\">65.0</td><td class=\"Table__TD\">4.131</td></tr>\n",
      "<tr class=\"Table__TR Table__TR--sm Table__even\" data-idx=\"29\"><td class=\"Table__TD\">$3,669,034</td><td class=\"Table__TD\">1207</td><td class=\"Table__TD\">19</td><td class=\"Table__TD\">63</td><td class=\"Table__TD\">13</td><td class=\"Table__TD\">3</td><td class=\"Table__TD\">1</td><td class=\"Table__TD\">70.2</td><td class=\"Table__TD\">308.3</td><td class=\"Table__TD\">59.0</td><td class=\"Table__TD\">65.0</td><td class=\"Table__TD\">1.749</td><td class=\"Table__TD\">44.3</td><td class=\"Table__TD\">4.032</td></tr>\n",
      "<tr class=\"Table__TR Table__TR--sm Table__even\" data-idx=\"30\"><td class=\"Table__TD\">$3,415,469</td><td class=\"Table__TD\">1202</td><td class=\"Table__TD\">18</td><td class=\"Table__TD\">60</td><td class=\"Table__TD\">13</td><td class=\"Table__TD\">4</td><td class=\"Table__TD\">0</td><td class=\"Table__TD\">69.9</td><td class=\"Table__TD\">301.0</td><td class=\"Table__TD\">60.1</td><td class=\"Table__TD\">64.0</td><td class=\"Table__TD\">1.729</td><td class=\"Table__TD\">54.9</td><td class=\"Table__TD\">4.100</td></tr>\n",
      "<tr class=\"Table__TR Table__TR--sm Table__even\" data-idx=\"31\"><td class=\"Table__TD\">$3,626,766</td><td class=\"Table__TD\">1194</td><td class=\"Table__TD\">18</td><td class=\"Table__TD\">65</td><td class=\"Table__TD\">15</td><td class=\"Table__TD\">3</td><td class=\"Table__TD\">0</td><td class=\"Table__TD\">70.7</td><td class=\"Table__TD\">299.9</td><td class=\"Table__TD\">55.9</td><td class=\"Table__TD\">63.2</td><td class=\"Table__TD\">1.769</td><td class=\"Table__TD\">59.7</td><td class=\"Table__TD\">3.631</td></tr>\n",
      "<tr class=\"Table__TR Table__TR--sm Table__even\" data-idx=\"32\"><td class=\"Table__TD\">$3,468,670</td><td class=\"Table__TD\">1193</td><td class=\"Table__TD\">19</td><td class=\"Table__TD\">69</td><td class=\"Table__TD\">16</td><td class=\"Table__TD\">4</td><td class=\"Table__TD\">0</td><td class=\"Table__TD\">70.2</td><td class=\"Table__TD\">289.5</td><td class=\"Table__TD\">66.6</td><td class=\"Table__TD\">64.7</td><td class=\"Table__TD\">1.731</td><td class=\"Table__TD\">55.0</td><td class=\"Table__TD\">4.159</td></tr>\n",
      "<tr class=\"Table__TR Table__TR--sm Table__even\" data-idx=\"33\"><td class=\"Table__TD\">$3,848,566</td><td class=\"Table__TD\">1190</td><td class=\"Table__TD\">18</td><td class=\"Table__TD\">69</td><td class=\"Table__TD\">17</td><td class=\"Table__TD\">6</td><td class=\"Table__TD\">0</td><td class=\"Table__TD\">70.4</td><td class=\"Table__TD\">307.1</td><td class=\"Table__TD\">60.2</td><td class=\"Table__TD\">66.4</td><td class=\"Table__TD\">1.750</td><td class=\"Table__TD\">50.8</td><td class=\"Table__TD\">4.029</td></tr>\n",
      "<tr class=\"Table__TR Table__TR--sm Table__even\" data-idx=\"34\"><td class=\"Table__TD\">$3,484,683</td><td class=\"Table__TD\">1168</td><td class=\"Table__TD\">20</td><td class=\"Table__TD\">77</td><td class=\"Table__TD\">19</td><td class=\"Table__TD\">1</td><td class=\"Table__TD\">0</td><td class=\"Table__TD\">69.7</td><td class=\"Table__TD\">293.8</td><td class=\"Table__TD\">67.9</td><td class=\"Table__TD\">65.7</td><td class=\"Table__TD\">1.753</td><td class=\"Table__TD\">58.1</td><td class=\"Table__TD\">3.922</td></tr>\n",
      "<tr class=\"Table__TR Table__TR--sm Table__even\" data-idx=\"35\"><td class=\"Table__TD\">$3,836,448</td><td class=\"Table__TD\">1153</td><td class=\"Table__TD\">20</td><td class=\"Table__TD\">63</td><td class=\"Table__TD\">13</td><td class=\"Table__TD\">5</td><td class=\"Table__TD\">0</td><td class=\"Table__TD\">70.4</td><td class=\"Table__TD\">296.0</td><td class=\"Table__TD\">61.4</td><td class=\"Table__TD\">63.9</td><td class=\"Table__TD\">1.742</td><td class=\"Table__TD\">53.0</td><td class=\"Table__TD\">4.016</td></tr>\n",
      "<tr class=\"Table__TR Table__TR--sm Table__even\" data-idx=\"36\"><td class=\"Table__TD\">$3,572,893</td><td class=\"Table__TD\">1152</td><td class=\"Table__TD\">19</td><td class=\"Table__TD\">59</td><td class=\"Table__TD\">11</td><td class=\"Table__TD\">4</td><td class=\"Table__TD\">1</td><td class=\"Table__TD\">69.9</td><td class=\"Table__TD\">309.7</td><td class=\"Table__TD\">57.3</td><td class=\"Table__TD\">65.5</td><td class=\"Table__TD\">1.721</td><td class=\"Table__TD\">52.4</td><td class=\"Table__TD\">4.017</td></tr>\n",
      "<tr class=\"Table__TR Table__TR--sm Table__even\" data-idx=\"37\"><td class=\"Table__TD\">$3,275,463</td><td class=\"Table__TD\">1074</td><td class=\"Table__TD\">19</td><td class=\"Table__TD\">63</td><td class=\"Table__TD\">14</td><td class=\"Table__TD\">3</td><td class=\"Table__TD\">0</td><td class=\"Table__TD\">70.4</td><td class=\"Table__TD\">299.4</td><td class=\"Table__TD\">63.3</td><td class=\"Table__TD\">64.5</td><td class=\"Table__TD\">1.728</td><td class=\"Table__TD\">59.3</td><td class=\"Table__TD\">3.873</td></tr>\n",
      "<tr class=\"Table__TR Table__TR--sm Table__even\" data-idx=\"38\"><td class=\"Table__TD\">$2,939,210</td><td class=\"Table__TD\">1067</td><td class=\"Table__TD\">18</td><td class=\"Table__TD\">65</td><td class=\"Table__TD\">15</td><td class=\"Table__TD\">3</td><td class=\"Table__TD\">0</td><td class=\"Table__TD\">69.4</td><td class=\"Table__TD\">293.8</td><td class=\"Table__TD\">65.1</td><td class=\"Table__TD\">68.6</td><td class=\"Table__TD\">1.781</td><td class=\"Table__TD\">61.4</td><td class=\"Table__TD\">3.708</td></tr>\n",
      "<tr class=\"Table__TR Table__TR--sm Table__even\" data-idx=\"39\"><td class=\"Table__TD\">$4,077,718</td><td class=\"Table__TD\">1051</td><td class=\"Table__TD\">22</td><td class=\"Table__TD\">76</td><td class=\"Table__TD\">17</td><td class=\"Table__TD\">2</td><td class=\"Table__TD\">0</td><td class=\"Table__TD\">70.1</td><td class=\"Table__TD\">298.1</td><td class=\"Table__TD\">65.7</td><td class=\"Table__TD\">66.1</td><td class=\"Table__TD\">1.747</td><td class=\"Table__TD\">54.5</td><td class=\"Table__TD\">4.092</td></tr>\n",
      "<tr class=\"Table__TR Table__TR--sm Table__even\" data-idx=\"40\"><td class=\"Table__TD\">$2,979,839</td><td class=\"Table__TD\">1041</td><td class=\"Table__TD\">16</td><td class=\"Table__TD\">59</td><td class=\"Table__TD\">14</td><td class=\"Table__TD\">3</td><td class=\"Table__TD\">0</td><td class=\"Table__TD\">69.9</td><td class=\"Table__TD\">305.8</td><td class=\"Table__TD\">57.9</td><td class=\"Table__TD\">66.3</td><td class=\"Table__TD\">1.750</td><td class=\"Table__TD\">54.0</td><td class=\"Table__TD\">3.763</td></tr>\n",
      "<tr class=\"Table__TR Table__TR--sm Table__even\" data-idx=\"41\"><td class=\"Table__TD\">$3,133,530</td><td class=\"Table__TD\">1030</td><td class=\"Table__TD\">17</td><td class=\"Table__TD\">59</td><td class=\"Table__TD\">13</td><td class=\"Table__TD\">2</td><td class=\"Table__TD\">0</td><td class=\"Table__TD\">70.6</td><td class=\"Table__TD\">302.7</td><td class=\"Table__TD\">62.2</td><td class=\"Table__TD\">66.2</td><td class=\"Table__TD\">1.748</td><td class=\"Table__TD\">54.8</td><td class=\"Table__TD\">3.915</td></tr>\n",
      "<tr class=\"Table__TR Table__TR--sm Table__even\" data-idx=\"42\"><td class=\"Table__TD\">$3,156,124</td><td class=\"Table__TD\">1024</td><td class=\"Table__TD\">20</td><td class=\"Table__TD\">71</td><td class=\"Table__TD\">16</td><td class=\"Table__TD\">3</td><td class=\"Table__TD\">0</td><td class=\"Table__TD\">70.2</td><td class=\"Table__TD\">289.6</td><td class=\"Table__TD\">61.6</td><td class=\"Table__TD\">61.0</td><td class=\"Table__TD\">1.710</td><td class=\"Table__TD\">62.9</td><td class=\"Table__TD\">3.775</td></tr>\n",
      "<tr class=\"Table__TR Table__TR--sm Table__even\" data-idx=\"43\"><td class=\"Table__TD\">$3,790,799</td><td class=\"Table__TD\">1019</td><td class=\"Table__TD\">18</td><td class=\"Table__TD\">56</td><td class=\"Table__TD\">11</td><td class=\"Table__TD\">3</td><td class=\"Table__TD\">0</td><td class=\"Table__TD\">70.8</td><td class=\"Table__TD\">299.8</td><td class=\"Table__TD\">59.7</td><td class=\"Table__TD\">63.5</td><td class=\"Table__TD\">1.811</td><td class=\"Table__TD\">57.4</td><td class=\"Table__TD\">3.482</td></tr>\n",
      "<tr class=\"Table__TR Table__TR--sm Table__even\" data-idx=\"44\"><td class=\"Table__TD\">$3,135,234</td><td class=\"Table__TD\">1008</td><td class=\"Table__TD\">18</td><td class=\"Table__TD\">64</td><td class=\"Table__TD\">14</td><td class=\"Table__TD\">1</td><td class=\"Table__TD\">1</td><td class=\"Table__TD\">70.8</td><td class=\"Table__TD\">300.1</td><td class=\"Table__TD\">60.5</td><td class=\"Table__TD\">63.4</td><td class=\"Table__TD\">1.773</td><td class=\"Table__TD\">54.2</td><td class=\"Table__TD\">3.906</td></tr>\n",
      "<tr class=\"Table__TR Table__TR--sm Table__even\" data-idx=\"45\"><td class=\"Table__TD\">$3,093,045</td><td class=\"Table__TD\">969</td><td class=\"Table__TD\">20</td><td class=\"Table__TD\">64</td><td class=\"Table__TD\">13</td><td class=\"Table__TD\">3</td><td class=\"Table__TD\">1</td><td class=\"Table__TD\">70.6</td><td class=\"Table__TD\">290.7</td><td class=\"Table__TD\">60.7</td><td class=\"Table__TD\">62.8</td><td class=\"Table__TD\">1.762</td><td class=\"Table__TD\">56.3</td><td class=\"Table__TD\">3.578</td></tr>\n",
      "<tr class=\"Table__TR Table__TR--sm Table__even\" data-idx=\"46\"><td class=\"Table__TD\">$2,782,188</td><td class=\"Table__TD\">969</td><td class=\"Table__TD\">19</td><td class=\"Table__TD\">69</td><td class=\"Table__TD\">16</td><td class=\"Table__TD\">2</td><td class=\"Table__TD\">0</td><td class=\"Table__TD\">70.4</td><td class=\"Table__TD\">299.0</td><td class=\"Table__TD\">64.1</td><td class=\"Table__TD\">64.2</td><td class=\"Table__TD\">1.749</td><td class=\"Table__TD\">59.1</td><td class=\"Table__TD\">3.565</td></tr>\n",
      "<tr class=\"Table__TR Table__TR--sm Table__even\" data-idx=\"47\"><td class=\"Table__TD\">$2,965,435</td><td class=\"Table__TD\">969</td><td class=\"Table__TD\">20</td><td class=\"Table__TD\">68</td><td class=\"Table__TD\">15</td><td class=\"Table__TD\">1</td><td class=\"Table__TD\">1</td><td class=\"Table__TD\">70.7</td><td class=\"Table__TD\">298.0</td><td class=\"Table__TD\">67.0</td><td class=\"Table__TD\">63.9</td><td class=\"Table__TD\">1.757</td><td class=\"Table__TD\">52.4</td><td class=\"Table__TD\">3.662</td></tr>\n",
      "<tr class=\"Table__TR Table__TR--sm Table__even\" data-idx=\"48\"><td class=\"Table__TD\">$2,760,074</td><td class=\"Table__TD\">955</td><td class=\"Table__TD\">19</td><td class=\"Table__TD\">67</td><td class=\"Table__TD\">15</td><td class=\"Table__TD\">3</td><td class=\"Table__TD\">0</td><td class=\"Table__TD\">70.1</td><td class=\"Table__TD\">296.6</td><td class=\"Table__TD\">56.1</td><td class=\"Table__TD\">61.5</td><td class=\"Table__TD\">1.724</td><td class=\"Table__TD\">50.5</td><td class=\"Table__TD\">3.701</td></tr>\n",
      "<tr class=\"Table__TR Table__TR--sm Table__even\" data-idx=\"49\"><td class=\"Table__TD\">$3,012,213</td><td class=\"Table__TD\">948</td><td class=\"Table__TD\">19</td><td class=\"Table__TD\">67</td><td class=\"Table__TD\">14</td><td class=\"Table__TD\">4</td><td class=\"Table__TD\">1</td><td class=\"Table__TD\">70.6</td><td class=\"Table__TD\">309.3</td><td class=\"Table__TD\">57.2</td><td class=\"Table__TD\">65.7</td><td class=\"Table__TD\">1.752</td><td class=\"Table__TD\">59.2</td><td class=\"Table__TD\">3.910</td></tr>\n"
     ]
    }
   ],
   "source": [
    "for points in soup.find_all('tr', class_ = 'Table__TR Table__TR--sm Table__even'):\n",
    "    print(points)"
   ]
  },
  {
   "cell_type": "code",
   "execution_count": 62,
   "metadata": {},
   "outputs": [
    {
     "data": {
      "text/plain": [
       "'3'"
      ]
     },
     "execution_count": 62,
     "metadata": {},
     "output_type": "execute_result"
    }
   ],
   "source": []
  },
  {
   "cell_type": "code",
   "execution_count": 51,
   "metadata": {},
   "outputs": [
    {
     "ename": "IndexError",
     "evalue": "list index out of range",
     "output_type": "error",
     "traceback": [
      "\u001b[1;31m---------------------------------------------------------------------------\u001b[0m",
      "\u001b[1;31mIndexError\u001b[0m                                Traceback (most recent call last)",
      "\u001b[1;32m~\\AppData\\Local\\Temp\\ipykernel_9100\\3668410068.py\u001b[0m in \u001b[0;36m<module>\u001b[1;34m\u001b[0m\n\u001b[0;32m      2\u001b[0m \u001b[1;33m\u001b[0m\u001b[0m\n\u001b[0;32m      3\u001b[0m \u001b[1;31m# Extract the second <td> element from each row\u001b[0m\u001b[1;33m\u001b[0m\u001b[1;33m\u001b[0m\u001b[0m\n\u001b[1;32m----> 4\u001b[1;33m \u001b[0msecond_elements\u001b[0m \u001b[1;33m=\u001b[0m \u001b[1;33m[\u001b[0m\u001b[0mrow\u001b[0m\u001b[1;33m.\u001b[0m\u001b[0mfind_all\u001b[0m\u001b[1;33m(\u001b[0m\u001b[1;34m'td'\u001b[0m\u001b[1;33m)\u001b[0m\u001b[1;33m[\u001b[0m\u001b[1;36m3\u001b[0m\u001b[1;33m]\u001b[0m\u001b[1;33m.\u001b[0m\u001b[0mtext\u001b[0m \u001b[1;32mfor\u001b[0m \u001b[0mrow\u001b[0m \u001b[1;32min\u001b[0m \u001b[0mrows\u001b[0m\u001b[1;33m]\u001b[0m\u001b[1;33m\u001b[0m\u001b[1;33m\u001b[0m\u001b[0m\n\u001b[0m",
      "\u001b[1;32m~\\AppData\\Local\\Temp\\ipykernel_9100\\3668410068.py\u001b[0m in \u001b[0;36m<listcomp>\u001b[1;34m(.0)\u001b[0m\n\u001b[0;32m      2\u001b[0m \u001b[1;33m\u001b[0m\u001b[0m\n\u001b[0;32m      3\u001b[0m \u001b[1;31m# Extract the second <td> element from each row\u001b[0m\u001b[1;33m\u001b[0m\u001b[1;33m\u001b[0m\u001b[0m\n\u001b[1;32m----> 4\u001b[1;33m \u001b[0msecond_elements\u001b[0m \u001b[1;33m=\u001b[0m \u001b[1;33m[\u001b[0m\u001b[0mrow\u001b[0m\u001b[1;33m.\u001b[0m\u001b[0mfind_all\u001b[0m\u001b[1;33m(\u001b[0m\u001b[1;34m'td'\u001b[0m\u001b[1;33m)\u001b[0m\u001b[1;33m[\u001b[0m\u001b[1;36m3\u001b[0m\u001b[1;33m]\u001b[0m\u001b[1;33m.\u001b[0m\u001b[0mtext\u001b[0m \u001b[1;32mfor\u001b[0m \u001b[0mrow\u001b[0m \u001b[1;32min\u001b[0m \u001b[0mrows\u001b[0m\u001b[1;33m]\u001b[0m\u001b[1;33m\u001b[0m\u001b[1;33m\u001b[0m\u001b[0m\n\u001b[0m",
      "\u001b[1;31mIndexError\u001b[0m: list index out of range"
     ]
    }
   ],
   "source": [
    "rows = soup.select('tbody.Table__TBODY tr')\n",
    "\n",
    "# Extract the second <td> element from each row\n",
    "second_elements = [row.find_all('td')[].text for row in rows]"
   ]
  },
  {
   "cell_type": "code",
   "execution_count": 50,
   "metadata": {},
   "outputs": [
    {
     "data": {
      "text/plain": [
       "['28',\n",
       " '30',\n",
       " '35',\n",
       " '27',\n",
       " '30',\n",
       " '24',\n",
       " '26',\n",
       " '32',\n",
       " '26',\n",
       " '37',\n",
       " '32',\n",
       " '32',\n",
       " '35',\n",
       " '22',\n",
       " '34',\n",
       " '31',\n",
       " '27',\n",
       " '31',\n",
       " '31',\n",
       " '35',\n",
       " '37',\n",
       " '30',\n",
       " '36',\n",
       " '25',\n",
       " '39',\n",
       " '37',\n",
       " '32',\n",
       " '33',\n",
       " '27',\n",
       " '35',\n",
       " '31',\n",
       " '33',\n",
       " '31',\n",
       " '27',\n",
       " '29',\n",
       " '36',\n",
       " '33',\n",
       " '29',\n",
       " '42',\n",
       " '22',\n",
       " '44',\n",
       " '38',\n",
       " '31',\n",
       " '27',\n",
       " '29',\n",
       " '36',\n",
       " '34',\n",
       " '25',\n",
       " '33',\n",
       " '30',\n",
       " '16',\n",
       " '18',\n",
       " '16',\n",
       " '18',\n",
       " '17',\n",
       " '16',\n",
       " '20',\n",
       " '16',\n",
       " '21',\n",
       " '16',\n",
       " '16',\n",
       " '19',\n",
       " '16',\n",
       " '21',\n",
       " '18',\n",
       " '16',\n",
       " '21',\n",
       " '20',\n",
       " '16',\n",
       " '22',\n",
       " '19',\n",
       " '19',\n",
       " '18',\n",
       " '22',\n",
       " '18',\n",
       " '19',\n",
       " '20',\n",
       " '16',\n",
       " '17',\n",
       " '19',\n",
       " '18',\n",
       " '18',\n",
       " '19',\n",
       " '18',\n",
       " '20',\n",
       " '20',\n",
       " '19',\n",
       " '19',\n",
       " '18',\n",
       " '22',\n",
       " '16',\n",
       " '17',\n",
       " '20',\n",
       " '18',\n",
       " '18',\n",
       " '20',\n",
       " '19',\n",
       " '20',\n",
       " '19',\n",
       " '19']"
      ]
     },
     "execution_count": 50,
     "metadata": {},
     "output_type": "execute_result"
    }
   ],
   "source": [
    "second_elements"
   ]
  },
  {
   "cell_type": "code",
   "execution_count": null,
   "metadata": {},
   "outputs": [],
   "source": []
  }
 ],
 "metadata": {
  "kernelspec": {
   "display_name": "Python 3",
   "language": "python",
   "name": "python3"
  },
  "language_info": {
   "codemirror_mode": {
    "name": "ipython",
    "version": 3
   },
   "file_extension": ".py",
   "mimetype": "text/x-python",
   "name": "python",
   "nbconvert_exporter": "python",
   "pygments_lexer": "ipython3",
   "version": "3.9.13"
  }
 },
 "nbformat": 4,
 "nbformat_minor": 2
}
