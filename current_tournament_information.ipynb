{
 "cells": [
  {
   "cell_type": "code",
   "execution_count": 2,
   "metadata": {},
   "outputs": [
    {
     "data": {
      "text/plain": [
       "{'Event Name': 'The Open',\n",
       " 'Dates': 'July 18 - 21, 2024',\n",
       " 'Course Name': 'Royal Troon Golf Course',\n",
       " 'Locations': 'Troon, Scotland',\n",
       " 'Yardage': '7385',\n",
       " 'Purse': '$17,000,000',\n",
       " 'Previous Winner': 'Brian Harman'}"
      ]
     },
     "execution_count": 2,
     "metadata": {},
     "output_type": "execute_result"
    }
   ],
   "source": [
    "import requests\n",
    "from bs4 import BeautifulSoup\n",
    "import pandas as pd\n",
    "\n",
    "def tournament_information():\n",
    "    results = requests.get('https://www.espn.com/golf/leaderboard', headers = {'User-Agent':'Mozilla/5.0 (Windows NT 10.0; Win64; x64) AppleWebKit/537.36 (KHTML, like Gecko) Chrome/126.0.0.0 Safari/537.36 Edg/126.0.0.0'})\n",
    "\n",
    "    soup = BeautifulSoup(results.text, 'html.parser')\n",
    "\n",
    "    dates = soup.find('span', class_ = 'Leaderboard__Event__Date n7').text\n",
    "    event_name = soup.find('h1', class_ = 'headline headline__h1 Leaderboard__Event__Title').text\n",
    "    course_name = soup.find('div', class_ = 'Leaderboard__Course__Location n8 clr-gray-04').text.split(' -')[0]\n",
    "    location = soup.find('div', class_ = 'Leaderboard__Course__Location n8 clr-gray-04').text.split('- ')[1]\n",
    "    yardage = soup.find('div', class_ = 'Leaderboard__Courses').text.split('Yards')[-1].split('P')[0]\n",
    "    purse = soup.find('div', class_ = 'Leaderboard__Courses').text.split('Purse')[-1].split('P')[0]\n",
    "    previous_winner = soup.find('div', class_ = 'Leaderboard__Courses').text.split('Previous Winner')[-1]\n",
    "\n",
    "    data = {'Event Name' : event_name,\n",
    "            'Dates': dates,\n",
    "            'Course Name' : course_name,\n",
    "            'Locations' : location,\n",
    "            'Yardage' : yardage,\n",
    "            'Purse' : purse,\n",
    "            'Previous Winner' : previous_winner\n",
    "                }\n",
    "    return data\n",
    "\n",
    "tournament_information()"
   ]
  },
  {
   "cell_type": "code",
   "execution_count": null,
   "metadata": {},
   "outputs": [],
   "source": []
  }
 ],
 "metadata": {
  "kernelspec": {
   "display_name": "Python 3",
   "language": "python",
   "name": "python3"
  },
  "language_info": {
   "codemirror_mode": {
    "name": "ipython",
    "version": 3
   },
   "file_extension": ".py",
   "mimetype": "text/x-python",
   "name": "python",
   "nbconvert_exporter": "python",
   "pygments_lexer": "ipython3",
   "version": "3.9.13"
  }
 },
 "nbformat": 4,
 "nbformat_minor": 2
}
