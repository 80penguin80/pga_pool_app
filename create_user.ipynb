{
 "cells": [
  {
   "cell_type": "code",
   "execution_count": 6,
   "metadata": {},
   "outputs": [
    {
     "ename": "NameError",
     "evalue": "name 'app' is not defined",
     "output_type": "error",
     "traceback": [
      "\u001b[1;31m---------------------------------------------------------------------------\u001b[0m",
      "\u001b[1;31mNameError\u001b[0m                                 Traceback (most recent call last)",
      "\u001b[1;32m~\\AppData\\Local\\Temp\\ipykernel_19640\\3041901698.py\u001b[0m in \u001b[0;36m<module>\u001b[1;34m\u001b[0m\n\u001b[0;32m      8\u001b[0m \u001b[1;32mimport\u001b[0m \u001b[0mos\u001b[0m\u001b[1;33m\u001b[0m\u001b[1;33m\u001b[0m\u001b[0m\n\u001b[0;32m      9\u001b[0m \u001b[1;33m\u001b[0m\u001b[0m\n\u001b[1;32m---> 10\u001b[1;33m \u001b[0mapp\u001b[0m\u001b[1;33m.\u001b[0m\u001b[0msecret_key\u001b[0m \u001b[1;33m=\u001b[0m \u001b[1;34m'penguin123crazy1--'\u001b[0m\u001b[1;33m\u001b[0m\u001b[1;33m\u001b[0m\u001b[0m\n\u001b[0m\u001b[0;32m     11\u001b[0m \u001b[1;33m\u001b[0m\u001b[0m\n\u001b[0;32m     12\u001b[0m \u001b[0mapp\u001b[0m\u001b[1;33m.\u001b[0m\u001b[0msecret_key\u001b[0m \u001b[1;33m=\u001b[0m \u001b[0mos\u001b[0m\u001b[1;33m.\u001b[0m\u001b[0menviron\u001b[0m\u001b[1;33m.\u001b[0m\u001b[0mget\u001b[0m\u001b[1;33m(\u001b[0m\u001b[1;34m'FLASK_SECRET_KEY'\u001b[0m\u001b[1;33m,\u001b[0m \u001b[1;34m'penguin123crazy1--'\u001b[0m\u001b[1;33m)\u001b[0m\u001b[1;33m\u001b[0m\u001b[1;33m\u001b[0m\u001b[0m\n",
      "\u001b[1;31mNameError\u001b[0m: name 'app' is not defined"
     ]
    }
   ],
   "source": [
    "from flask import Flask, request, render_template, redirect, url_for, session\n",
    "import psycopg2\n",
    "import bcrypt\n",
    "import random\n",
    "import string\n",
    "import pandas as pd\n",
    "import psycopg2\n",
    "import os\n",
    "\n",
    "db_creds = pd.read_csv('/users/zack burnside/desktop/database_creds.csv')\n",
    "\n",
    "def generate_random_password(length=12):\n",
    "    characters = string.ascii_letters + string.digits + string.punctuation\n",
    "    return ''.join(random.choice(characters) for _ in range(length))\n",
    "\n",
    "usernames = [\n",
    "    \"Z\",\n",
    "    \"Timmy Chips\",\n",
    "    \"Goob\",\n",
    "    \"C\",\n",
    "    \"Steve\",\n",
    "    \"Sus\",\n",
    "    \"DV3\",\n",
    "    \"Jlo\",\n",
    "    \"Ty Dolla $$$\",\n",
    "    \"Ryan\",\n",
    "    \"Mike D\",\n",
    "    \"Mando\",\n",
    "    \"Eddie Buckets\",\n",
    "    \"Garrett\",\n",
    "    \"T Sully\"\n",
    "]\n",
    "\n",
    "user_passwords = {username: generate_random_password() for username in usernames}\n",
    "\n",
    "def get_db_connection():\n",
    "    conn = psycopg2.connect(\n",
    "        dbname=db_creds['dbname'][0],\n",
    "        user=db_creds['user'][0],\n",
    "        password=db_creds['password'][0],\n",
    "        host=db_creds['host'][0],\n",
    "        port=db_creds['port'][0]\n",
    "    )\n",
    "    return conn\n",
    "\n",
    "def upload_user_logins():\n",
    "    conn = get_db_connection()\n",
    "    cur = conn.cursor()\n",
    "\n",
    "    # Insert query\n",
    "    insert_query = \"\"\"\n",
    "        INSERT INTO public.user_logins (username, password)\n",
    "        VALUES (%s, %s)\n",
    "    \"\"\"\n",
    "    \n",
    "    # Insert data\n",
    "    for username, password in user_passwords.items():\n",
    "        try:\n",
    "            cur.execute(insert_query, (username, password))\n",
    "        except Exception as e:\n",
    "            print(f\"Error inserting {username}: {e}\")\n",
    "\n",
    "    # Commit changes and close connection\n",
    "    conn.commit()\n",
    "    cur.close()\n",
    "    conn.close()\n",
    "    print(\"User logins uploaded successfully.\")\n",
    "\n",
    "upload_user_logins()"
   ]
  },
  {
   "cell_type": "code",
   "execution_count": null,
   "metadata": {},
   "outputs": [],
   "source": []
  }
 ],
 "metadata": {
  "kernelspec": {
   "display_name": "Python 3",
   "language": "python",
   "name": "python3"
  },
  "language_info": {
   "codemirror_mode": {
    "name": "ipython",
    "version": 3
   },
   "file_extension": ".py",
   "mimetype": "text/x-python",
   "name": "python",
   "nbconvert_exporter": "python",
   "pygments_lexer": "ipython3",
   "version": "3.9.13"
  }
 },
 "nbformat": 4,
 "nbformat_minor": 2
}
